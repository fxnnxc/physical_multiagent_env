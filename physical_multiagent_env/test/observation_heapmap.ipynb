{
 "metadata": {
  "language_info": {
   "codemirror_mode": {
    "name": "ipython",
    "version": 3
   },
   "file_extension": ".py",
   "mimetype": "text/x-python",
   "name": "python",
   "nbconvert_exporter": "python",
   "pygments_lexer": "ipython3",
   "version": "3.6.12"
  },
  "orig_nbformat": 2,
  "kernelspec": {
   "name": "python3612jvsc74a57bd01e40f8dc166516b30b47f27ed5162843f328202e84965d74006aacaafac3f7b4",
   "display_name": "Python 3.6.12 64-bit ('bullet': conda)"
  }
 },
 "nbformat": 4,
 "nbformat_minor": 2,
 "cells": [
  {
   "cell_type": "code",
   "execution_count": null,
   "metadata": {},
   "outputs": [],
   "source": [
    "from physical_multiagent_env.scenarios.FollowTemplate.scenario import *\n",
    "from physical_multiagent_env.reinforcement_learning.utils.observation_functions import *\n",
    "\n",
    "import time\n",
    "import json \n",
    "\n",
    "import matplotlib\n",
    "import matplotlib.pyplot as plt \n",
    "from IPython import display\n",
    "\n",
    "transform = Observation_CNN.observation_fn_2\n",
    "fig, ax = plt.subplots()\n",
    "\n",
    "if __name__ == \"__main__\":\n",
    "    with open(\"../reinforcement_learning/FollowTemplate/version1.json\") as f :\n",
    "        config = json.load(f)\n",
    "    config = config['env_config']\n",
    "    config['connect'] = p.DIRECT\n",
    "\n",
    "    env = FollowTemplate(config)\n",
    "    \n",
    "    for i in range(10):\n",
    "        env.set_phase(phase=6)\n",
    "        state = env.reset()\n",
    "        \n",
    "        for j in range(2000):\n",
    "            alive_agents = []\n",
    "            for index, agent in enumerate(env.objects['agent']):\n",
    "                if agent.alive:\n",
    "                    alive_agents.append(index)\n",
    "            \n",
    "            agent_obs = transform(state, \n",
    "                                test_env=env, \n",
    "                                test_config={'size':20, \"observation_range\":10}\n",
    "                        )\n",
    "\n",
    "            display.clear_output(wait=True) \n",
    "            display.display(plt.gcf())\n",
    "            plt.imshow(agent_obs[0][:,:,0])\n",
    "            \n",
    "            action = 2\n",
    "\n",
    "            state, reward, done, info = env.step({i:action for i in alive_agents})\n",
    "            # time.sleep(0.0001)"
   ]
  },
  {
   "cell_type": "code",
   "execution_count": null,
   "metadata": {},
   "outputs": [],
   "source": []
  }
 ]
}