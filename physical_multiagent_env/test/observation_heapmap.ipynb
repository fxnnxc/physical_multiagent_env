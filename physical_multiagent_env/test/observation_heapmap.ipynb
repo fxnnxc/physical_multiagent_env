{
 "metadata": {
  "language_info": {
   "codemirror_mode": {
    "name": "ipython",
    "version": 3
   },
   "file_extension": ".py",
   "mimetype": "text/x-python",
   "name": "python",
   "nbconvert_exporter": "python",
   "pygments_lexer": "ipython3",
   "version": "3.6.12"
  },
  "orig_nbformat": 2,
  "kernelspec": {
   "name": "python3612jvsc74a57bd0c5a22558fb1497a868c9b4e7e73f5cd389c1c4d6bb6d381c0696c4ee0aaef5dc",
   "display_name": "Python 3.6.12 64-bit ('bullet': conda)"
  },
  "metadata": {
   "interpreter": {
    "hash": "c5a22558fb1497a868c9b4e7e73f5cd389c1c4d6bb6d381c0696c4ee0aaef5dc"
   }
  }
 },
 "nbformat": 4,
 "nbformat_minor": 2,
 "cells": [
  {
   "cell_type": "code",
   "execution_count": 1,
   "metadata": {},
   "outputs": [
    {
     "output_type": "display_data",
     "data": {
      "text/plain": "<Figure size 432x288 with 1 Axes>",
      "image/svg+xml": "<?xml version=\"1.0\" encoding=\"utf-8\" standalone=\"no\"?>\r\n<!DOCTYPE svg PUBLIC \"-//W3C//DTD SVG 1.1//EN\"\r\n  \"http://www.w3.org/Graphics/SVG/1.1/DTD/svg11.dtd\">\r\n<!-- Created with matplotlib (https://matplotlib.org/) -->\r\n<svg height=\"251.230144pt\" version=\"1.1\" viewBox=\"0 0 251.565 251.230144\" width=\"251.565pt\" xmlns=\"http://www.w3.org/2000/svg\" xmlns:xlink=\"http://www.w3.org/1999/xlink\">\r\n <metadata>\r\n  <rdf:RDF xmlns:cc=\"http://creativecommons.org/ns#\" xmlns:dc=\"http://purl.org/dc/elements/1.1/\" xmlns:rdf=\"http://www.w3.org/1999/02/22-rdf-syntax-ns#\">\r\n   <cc:Work>\r\n    <dc:type rdf:resource=\"http://purl.org/dc/dcmitype/StillImage\"/>\r\n    <dc:date>2021-04-29T13:54:05.267062</dc:date>\r\n    <dc:format>image/svg+xml</dc:format>\r\n    <dc:creator>\r\n     <cc:Agent>\r\n      <dc:title>Matplotlib v3.3.3, https://matplotlib.org/</dc:title>\r\n     </cc:Agent>\r\n    </dc:creator>\r\n   </cc:Work>\r\n  </rdf:RDF>\r\n </metadata>\r\n <defs>\r\n  <style type=\"text/css\">*{stroke-linecap:butt;stroke-linejoin:round;}</style>\r\n </defs>\r\n <g id=\"figure_1\">\r\n  <g id=\"patch_1\">\r\n   <path d=\"M 0 251.230144 \r\nL 251.565 251.230144 \r\nL 251.565 0 \r\nL 0 0 \r\nz\r\n\" style=\"fill:none;\"/>\r\n  </g>\r\n  <g id=\"axes_1\">\r\n   <g id=\"patch_2\">\r\n    <path d=\"M 26.925 227.352019 \r\nL 244.365 227.352019 \r\nL 244.365 9.912019 \r\nL 26.925 9.912019 \r\nz\r\n\" style=\"fill:#ffffff;\"/>\r\n   </g>\r\n   <g clip-path=\"url(#p3278c822ba)\">\r\n    <image height=\"218\" id=\"image96ddc2f617\" transform=\"scale(1 -1)translate(0 -218)\" width=\"218\" x=\"27\" xlink:href=\"data:image/png;base64,\r\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\" y=\"-9.230144\"/>\r\n   </g>\r\n   <g id=\"matplotlib.axis_1\">\r\n    <g id=\"xtick_1\">\r\n     <g id=\"line2d_1\">\r\n      <defs>\r\n       <path d=\"M 0 0 \r\nL 0 3.5 \r\n\" id=\"me1b4402ae0\" style=\"stroke:#000000;stroke-width:0.8;\"/>\r\n      </defs>\r\n      <g>\r\n       <use style=\"stroke:#000000;stroke-width:0.8;\" x=\"28.0122\" xlink:href=\"#me1b4402ae0\" y=\"227.352019\"/>\r\n      </g>\r\n     </g>\r\n     <g id=\"text_1\">\r\n      <!-- 0 -->\r\n      <g transform=\"translate(24.83095 241.950456)scale(0.1 -0.1)\">\r\n       <defs>\r\n        <path d=\"M 31.78125 66.40625 \r\nQ 24.171875 66.40625 20.328125 58.90625 \r\nQ 16.5 51.421875 16.5 36.375 \r\nQ 16.5 21.390625 20.328125 13.890625 \r\nQ 24.171875 6.390625 31.78125 6.390625 \r\nQ 39.453125 6.390625 43.28125 13.890625 \r\nQ 47.125 21.390625 47.125 36.375 \r\nQ 47.125 51.421875 43.28125 58.90625 \r\nQ 39.453125 66.40625 31.78125 66.40625 \r\nz\r\nM 31.78125 74.21875 \r\nQ 44.046875 74.21875 50.515625 64.515625 \r\nQ 56.984375 54.828125 56.984375 36.375 \r\nQ 56.984375 17.96875 50.515625 8.265625 \r\nQ 44.046875 -1.421875 31.78125 -1.421875 \r\nQ 19.53125 -1.421875 13.0625 8.265625 \r\nQ 6.59375 17.96875 6.59375 36.375 \r\nQ 6.59375 54.828125 13.0625 64.515625 \r\nQ 19.53125 74.21875 31.78125 74.21875 \r\nz\r\n\" id=\"DejaVuSans-48\"/>\r\n       </defs>\r\n       <use xlink:href=\"#DejaVuSans-48\"/>\r\n      </g>\r\n     </g>\r\n    </g>\r\n    <g id=\"xtick_2\">\r\n     <g id=\"line2d_2\">\r\n      <g>\r\n       <use style=\"stroke:#000000;stroke-width:0.8;\" x=\"71.5002\" xlink:href=\"#me1b4402ae0\" y=\"227.352019\"/>\r\n      </g>\r\n     </g>\r\n     <g id=\"text_2\">\r\n      <!-- 20 -->\r\n      <g transform=\"translate(65.1377 241.950456)scale(0.1 -0.1)\">\r\n       <defs>\r\n        <path d=\"M 19.1875 8.296875 \r\nL 53.609375 8.296875 \r\nL 53.609375 0 \r\nL 7.328125 0 \r\nL 7.328125 8.296875 \r\nQ 12.9375 14.109375 22.625 23.890625 \r\nQ 32.328125 33.6875 34.8125 36.53125 \r\nQ 39.546875 41.84375 41.421875 45.53125 \r\nQ 43.3125 49.21875 43.3125 52.78125 \r\nQ 43.3125 58.59375 39.234375 62.25 \r\nQ 35.15625 65.921875 28.609375 65.921875 \r\nQ 23.96875 65.921875 18.8125 64.3125 \r\nQ 13.671875 62.703125 7.8125 59.421875 \r\nL 7.8125 69.390625 \r\nQ 13.765625 71.78125 18.9375 73 \r\nQ 24.125 74.21875 28.421875 74.21875 \r\nQ 39.75 74.21875 46.484375 68.546875 \r\nQ 53.21875 62.890625 53.21875 53.421875 \r\nQ 53.21875 48.921875 51.53125 44.890625 \r\nQ 49.859375 40.875 45.40625 35.40625 \r\nQ 44.1875 33.984375 37.640625 27.21875 \r\nQ 31.109375 20.453125 19.1875 8.296875 \r\nz\r\n\" id=\"DejaVuSans-50\"/>\r\n       </defs>\r\n       <use xlink:href=\"#DejaVuSans-50\"/>\r\n       <use x=\"63.623047\" xlink:href=\"#DejaVuSans-48\"/>\r\n      </g>\r\n     </g>\r\n    </g>\r\n    <g id=\"xtick_3\">\r\n     <g id=\"line2d_3\">\r\n      <g>\r\n       <use style=\"stroke:#000000;stroke-width:0.8;\" x=\"114.9882\" xlink:href=\"#me1b4402ae0\" y=\"227.352019\"/>\r\n      </g>\r\n     </g>\r\n     <g id=\"text_3\">\r\n      <!-- 40 -->\r\n      <g transform=\"translate(108.6257 241.950456)scale(0.1 -0.1)\">\r\n       <defs>\r\n        <path d=\"M 37.796875 64.3125 \r\nL 12.890625 25.390625 \r\nL 37.796875 25.390625 \r\nz\r\nM 35.203125 72.90625 \r\nL 47.609375 72.90625 \r\nL 47.609375 25.390625 \r\nL 58.015625 25.390625 \r\nL 58.015625 17.1875 \r\nL 47.609375 17.1875 \r\nL 47.609375 0 \r\nL 37.796875 0 \r\nL 37.796875 17.1875 \r\nL 4.890625 17.1875 \r\nL 4.890625 26.703125 \r\nz\r\n\" id=\"DejaVuSans-52\"/>\r\n       </defs>\r\n       <use xlink:href=\"#DejaVuSans-52\"/>\r\n       <use x=\"63.623047\" xlink:href=\"#DejaVuSans-48\"/>\r\n      </g>\r\n     </g>\r\n    </g>\r\n    <g id=\"xtick_4\">\r\n     <g id=\"line2d_4\">\r\n      <g>\r\n       <use style=\"stroke:#000000;stroke-width:0.8;\" x=\"158.4762\" xlink:href=\"#me1b4402ae0\" y=\"227.352019\"/>\r\n      </g>\r\n     </g>\r\n     <g id=\"text_4\">\r\n      <!-- 60 -->\r\n      <g transform=\"translate(152.1137 241.950456)scale(0.1 -0.1)\">\r\n       <defs>\r\n        <path d=\"M 33.015625 40.375 \r\nQ 26.375 40.375 22.484375 35.828125 \r\nQ 18.609375 31.296875 18.609375 23.390625 \r\nQ 18.609375 15.53125 22.484375 10.953125 \r\nQ 26.375 6.390625 33.015625 6.390625 \r\nQ 39.65625 6.390625 43.53125 10.953125 \r\nQ 47.40625 15.53125 47.40625 23.390625 \r\nQ 47.40625 31.296875 43.53125 35.828125 \r\nQ 39.65625 40.375 33.015625 40.375 \r\nz\r\nM 52.59375 71.296875 \r\nL 52.59375 62.3125 \r\nQ 48.875 64.0625 45.09375 64.984375 \r\nQ 41.3125 65.921875 37.59375 65.921875 \r\nQ 27.828125 65.921875 22.671875 59.328125 \r\nQ 17.53125 52.734375 16.796875 39.40625 \r\nQ 19.671875 43.65625 24.015625 45.921875 \r\nQ 28.375 48.1875 33.59375 48.1875 \r\nQ 44.578125 48.1875 50.953125 41.515625 \r\nQ 57.328125 34.859375 57.328125 23.390625 \r\nQ 57.328125 12.15625 50.6875 5.359375 \r\nQ 44.046875 -1.421875 33.015625 -1.421875 \r\nQ 20.359375 -1.421875 13.671875 8.265625 \r\nQ 6.984375 17.96875 6.984375 36.375 \r\nQ 6.984375 53.65625 15.1875 63.9375 \r\nQ 23.390625 74.21875 37.203125 74.21875 \r\nQ 40.921875 74.21875 44.703125 73.484375 \r\nQ 48.484375 72.75 52.59375 71.296875 \r\nz\r\n\" id=\"DejaVuSans-54\"/>\r\n       </defs>\r\n       <use xlink:href=\"#DejaVuSans-54\"/>\r\n       <use x=\"63.623047\" xlink:href=\"#DejaVuSans-48\"/>\r\n      </g>\r\n     </g>\r\n    </g>\r\n    <g id=\"xtick_5\">\r\n     <g id=\"line2d_5\">\r\n      <g>\r\n       <use style=\"stroke:#000000;stroke-width:0.8;\" x=\"201.9642\" xlink:href=\"#me1b4402ae0\" y=\"227.352019\"/>\r\n      </g>\r\n     </g>\r\n     <g id=\"text_5\">\r\n      <!-- 80 -->\r\n      <g transform=\"translate(195.6017 241.950456)scale(0.1 -0.1)\">\r\n       <defs>\r\n        <path d=\"M 31.78125 34.625 \r\nQ 24.75 34.625 20.71875 30.859375 \r\nQ 16.703125 27.09375 16.703125 20.515625 \r\nQ 16.703125 13.921875 20.71875 10.15625 \r\nQ 24.75 6.390625 31.78125 6.390625 \r\nQ 38.8125 6.390625 42.859375 10.171875 \r\nQ 46.921875 13.96875 46.921875 20.515625 \r\nQ 46.921875 27.09375 42.890625 30.859375 \r\nQ 38.875 34.625 31.78125 34.625 \r\nz\r\nM 21.921875 38.8125 \r\nQ 15.578125 40.375 12.03125 44.71875 \r\nQ 8.5 49.078125 8.5 55.328125 \r\nQ 8.5 64.0625 14.71875 69.140625 \r\nQ 20.953125 74.21875 31.78125 74.21875 \r\nQ 42.671875 74.21875 48.875 69.140625 \r\nQ 55.078125 64.0625 55.078125 55.328125 \r\nQ 55.078125 49.078125 51.53125 44.71875 \r\nQ 48 40.375 41.703125 38.8125 \r\nQ 48.828125 37.15625 52.796875 32.3125 \r\nQ 56.78125 27.484375 56.78125 20.515625 \r\nQ 56.78125 9.90625 50.3125 4.234375 \r\nQ 43.84375 -1.421875 31.78125 -1.421875 \r\nQ 19.734375 -1.421875 13.25 4.234375 \r\nQ 6.78125 9.90625 6.78125 20.515625 \r\nQ 6.78125 27.484375 10.78125 32.3125 \r\nQ 14.796875 37.15625 21.921875 38.8125 \r\nz\r\nM 18.3125 54.390625 \r\nQ 18.3125 48.734375 21.84375 45.5625 \r\nQ 25.390625 42.390625 31.78125 42.390625 \r\nQ 38.140625 42.390625 41.71875 45.5625 \r\nQ 45.3125 48.734375 45.3125 54.390625 \r\nQ 45.3125 60.0625 41.71875 63.234375 \r\nQ 38.140625 66.40625 31.78125 66.40625 \r\nQ 25.390625 66.40625 21.84375 63.234375 \r\nQ 18.3125 60.0625 18.3125 54.390625 \r\nz\r\n\" id=\"DejaVuSans-56\"/>\r\n       </defs>\r\n       <use xlink:href=\"#DejaVuSans-56\"/>\r\n       <use x=\"63.623047\" xlink:href=\"#DejaVuSans-48\"/>\r\n      </g>\r\n     </g>\r\n    </g>\r\n   </g>\r\n   <g id=\"matplotlib.axis_2\">\r\n    <g id=\"ytick_1\">\r\n     <g id=\"line2d_6\">\r\n      <defs>\r\n       <path d=\"M 0 0 \r\nL -3.5 0 \r\n\" id=\"m5b98f5356f\" style=\"stroke:#000000;stroke-width:0.8;\"/>\r\n      </defs>\r\n      <g>\r\n       <use style=\"stroke:#000000;stroke-width:0.8;\" x=\"26.925\" xlink:href=\"#m5b98f5356f\" y=\"10.999219\"/>\r\n      </g>\r\n     </g>\r\n     <g id=\"text_6\">\r\n      <!-- 0 -->\r\n      <g transform=\"translate(13.5625 14.798437)scale(0.1 -0.1)\">\r\n       <use xlink:href=\"#DejaVuSans-48\"/>\r\n      </g>\r\n     </g>\r\n    </g>\r\n    <g id=\"ytick_2\">\r\n     <g id=\"line2d_7\">\r\n      <g>\r\n       <use style=\"stroke:#000000;stroke-width:0.8;\" x=\"26.925\" xlink:href=\"#m5b98f5356f\" y=\"54.487219\"/>\r\n      </g>\r\n     </g>\r\n     <g id=\"text_7\">\r\n      <!-- 20 -->\r\n      <g transform=\"translate(7.2 58.286437)scale(0.1 -0.1)\">\r\n       <use xlink:href=\"#DejaVuSans-50\"/>\r\n       <use x=\"63.623047\" xlink:href=\"#DejaVuSans-48\"/>\r\n      </g>\r\n     </g>\r\n    </g>\r\n    <g id=\"ytick_3\">\r\n     <g id=\"line2d_8\">\r\n      <g>\r\n       <use style=\"stroke:#000000;stroke-width:0.8;\" x=\"26.925\" xlink:href=\"#m5b98f5356f\" y=\"97.975219\"/>\r\n      </g>\r\n     </g>\r\n     <g id=\"text_8\">\r\n      <!-- 40 -->\r\n      <g transform=\"translate(7.2 101.774437)scale(0.1 -0.1)\">\r\n       <use xlink:href=\"#DejaVuSans-52\"/>\r\n       <use x=\"63.623047\" xlink:href=\"#DejaVuSans-48\"/>\r\n      </g>\r\n     </g>\r\n    </g>\r\n    <g id=\"ytick_4\">\r\n     <g id=\"line2d_9\">\r\n      <g>\r\n       <use style=\"stroke:#000000;stroke-width:0.8;\" x=\"26.925\" xlink:href=\"#m5b98f5356f\" y=\"141.463219\"/>\r\n      </g>\r\n     </g>\r\n     <g id=\"text_9\">\r\n      <!-- 60 -->\r\n      <g transform=\"translate(7.2 145.262437)scale(0.1 -0.1)\">\r\n       <use xlink:href=\"#DejaVuSans-54\"/>\r\n       <use x=\"63.623047\" xlink:href=\"#DejaVuSans-48\"/>\r\n      </g>\r\n     </g>\r\n    </g>\r\n    <g id=\"ytick_5\">\r\n     <g id=\"line2d_10\">\r\n      <g>\r\n       <use style=\"stroke:#000000;stroke-width:0.8;\" x=\"26.925\" xlink:href=\"#m5b98f5356f\" y=\"184.951219\"/>\r\n      </g>\r\n     </g>\r\n     <g id=\"text_10\">\r\n      <!-- 80 -->\r\n      <g transform=\"translate(7.2 188.750437)scale(0.1 -0.1)\">\r\n       <use xlink:href=\"#DejaVuSans-56\"/>\r\n       <use x=\"63.623047\" xlink:href=\"#DejaVuSans-48\"/>\r\n      </g>\r\n     </g>\r\n    </g>\r\n   </g>\r\n   <g id=\"patch_3\">\r\n    <path d=\"M 26.925 227.352019 \r\nL 26.925 9.912019 \r\n\" style=\"fill:none;stroke:#000000;stroke-linecap:square;stroke-linejoin:miter;stroke-width:0.8;\"/>\r\n   </g>\r\n   <g id=\"patch_4\">\r\n    <path d=\"M 244.365 227.352019 \r\nL 244.365 9.912019 \r\n\" style=\"fill:none;stroke:#000000;stroke-linecap:square;stroke-linejoin:miter;stroke-width:0.8;\"/>\r\n   </g>\r\n   <g id=\"patch_5\">\r\n    <path d=\"M 26.925 227.352019 \r\nL 244.365 227.352019 \r\n\" style=\"fill:none;stroke:#000000;stroke-linecap:square;stroke-linejoin:miter;stroke-width:0.8;\"/>\r\n   </g>\r\n   <g id=\"patch_6\">\r\n    <path d=\"M 26.925 9.912019 \r\nL 244.365 9.912019 \r\n\" style=\"fill:none;stroke:#000000;stroke-linecap:square;stroke-linejoin:miter;stroke-width:0.8;\"/>\r\n   </g>\r\n  </g>\r\n </g>\r\n <defs>\r\n  <clipPath id=\"p3278c822ba\">\r\n   <rect height=\"217.44\" width=\"217.44\" x=\"26.925\" y=\"9.912019\"/>\r\n  </clipPath>\r\n </defs>\r\n</svg>\r\n",
      "image/png": "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\n"
     },
     "metadata": {}
    },
    {
     "output_type": "error",
     "ename": "KeyError",
     "evalue": "0",
     "traceback": [
      "\u001b[1;31m---------------------------------------------------------------------------\u001b[0m",
      "\u001b[1;31mKeyError\u001b[0m                                  Traceback (most recent call last)",
      "\u001b[1;32m<ipython-input-1-423c9c64b57f>\u001b[0m in \u001b[0;36m<module>\u001b[1;34m\u001b[0m\n\u001b[0;32m     45\u001b[0m             \u001b[0mdisplay\u001b[0m\u001b[1;33m.\u001b[0m\u001b[0mclear_output\u001b[0m\u001b[1;33m(\u001b[0m\u001b[0mwait\u001b[0m\u001b[1;33m=\u001b[0m\u001b[1;32mTrue\u001b[0m\u001b[1;33m)\u001b[0m\u001b[1;33m\u001b[0m\u001b[1;33m\u001b[0m\u001b[0m\n\u001b[0;32m     46\u001b[0m             \u001b[0mdisplay\u001b[0m\u001b[1;33m.\u001b[0m\u001b[0mdisplay\u001b[0m\u001b[1;33m(\u001b[0m\u001b[0mplt\u001b[0m\u001b[1;33m.\u001b[0m\u001b[0mgcf\u001b[0m\u001b[1;33m(\u001b[0m\u001b[1;33m)\u001b[0m\u001b[1;33m)\u001b[0m\u001b[1;33m\u001b[0m\u001b[1;33m\u001b[0m\u001b[0m\n\u001b[1;32m---> 47\u001b[1;33m             \u001b[0mplt\u001b[0m\u001b[1;33m.\u001b[0m\u001b[0mimshow\u001b[0m\u001b[1;33m(\u001b[0m\u001b[0magent_obs\u001b[0m\u001b[1;33m[\u001b[0m\u001b[1;36m0\u001b[0m\u001b[1;33m]\u001b[0m\u001b[1;33m[\u001b[0m\u001b[1;33m:\u001b[0m\u001b[1;33m,\u001b[0m\u001b[1;33m:\u001b[0m\u001b[1;33m]\u001b[0m\u001b[1;33m)\u001b[0m\u001b[1;33m\u001b[0m\u001b[1;33m\u001b[0m\u001b[0m\n\u001b[0m\u001b[0;32m     48\u001b[0m \u001b[1;33m\u001b[0m\u001b[0m\n\u001b[0;32m     49\u001b[0m             \u001b[1;32mif\u001b[0m \u001b[0mwant_to_save_image\u001b[0m \u001b[1;32mand\u001b[0m  \u001b[0mj\u001b[0m\u001b[1;33m%\u001b[0m\u001b[1;36m10\u001b[0m \u001b[1;33m==\u001b[0m \u001b[1;36m0\u001b[0m\u001b[1;33m:\u001b[0m\u001b[1;33m\u001b[0m\u001b[1;33m\u001b[0m\u001b[0m\n",
      "\u001b[1;31mKeyError\u001b[0m: 0"
     ]
    }
   ],
   "source": [
    "from physical_multiagent_env.scenarios.FollowTemplate.scenario import *\n",
    "from physical_multiagent_env.utils.observation_functions import *\n",
    "\n",
    "import time\n",
    "import json \n",
    "import os \n",
    "\n",
    "import matplotlib\n",
    "import matplotlib.pyplot as plt \n",
    "from IPython import display\n",
    "\n",
    "transform = Observation_CNN.observation_fn_2\n",
    "\n",
    "fig, ax = plt.subplots()\n",
    "\n",
    "want_to_save_image = False \n",
    "\n",
    "if __name__ == \"__main__\":\n",
    "\n",
    "    if want_to_save_image : \n",
    "        directory = \"temp\"\n",
    "        if not os.path.exists(directory):\n",
    "            os.mkdir(directory)\n",
    "\n",
    "\n",
    "    with open(\"../reinforcement_learning/FollowTemplate/version2.json\") as f :\n",
    "        config = json.load(f)\n",
    "\n",
    "    config = config['env_config']\n",
    "    config['connect'] = p.DIRECT\n",
    "    env = FollowTemplate(config)\n",
    "\n",
    "    for i in range(10):\n",
    "        env.set_phase(phase=6)\n",
    "        state = env.reset()\n",
    "        \n",
    "        for j in range(1000):\n",
    "            alive_agents = []\n",
    "            for index, agent in enumerate(env.objects['agent']):\n",
    "                if agent.alive:\n",
    "                    alive_agents.append(index)\n",
    "            \n",
    "            agent_obs = transform(state, \n",
    "                                test_env=env, \n",
<<<<<<< HEAD
    "                                test_config={'size':100, \"observation_range\":10}\n",
=======
    "                                test_config={'size':80, \"observation_range\":20}\n",
>>>>>>> b770d8b1ab69f8d8775c637d8a038678f0ed4c8b
    "                        )\n",
    "            display.clear_output(wait=True) \n",
    "            display.display(plt.gcf())\n",
    "            plt.imshow(agent_obs[0][:,:])\n",
    "            \n",
<<<<<<< HEAD
    "            if want_to_save_image and  j%10 == 0:\n",
    "                    fname = directory+\"/fig\"+str(i*1000+j)\n",
    "                    plt.savefig(fname)\n",
    "                \n",
=======
    "\n",
>>>>>>> b770d8b1ab69f8d8775c637d8a038678f0ed4c8b
    "            action = 2\n",
    "            state, reward, done, info = env.step({i:action for i in alive_agents})\n",
    "            # time.sleep(0.0001)"
   ]
  },
  {
   "cell_type": "code",
   "execution_count": null,
   "metadata": {},
   "outputs": [],
   "source": []
  }
 ]
}