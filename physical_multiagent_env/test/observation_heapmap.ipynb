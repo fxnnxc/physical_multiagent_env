{
 "metadata": {
  "language_info": {
   "codemirror_mode": {
    "name": "ipython",
    "version": 3
   },
   "file_extension": ".py",
   "mimetype": "text/x-python",
   "name": "python",
   "nbconvert_exporter": "python",
   "pygments_lexer": "ipython3",
   "version": "3.6.12"
  },
  "orig_nbformat": 2,
  "kernelspec": {
   "name": "python3612jvsc74a57bd0c5a22558fb1497a868c9b4e7e73f5cd389c1c4d6bb6d381c0696c4ee0aaef5dc",
   "display_name": "Python 3.6.12 64-bit ('bullet': conda)"
  },
  "metadata": {
   "interpreter": {
    "hash": "c5a22558fb1497a868c9b4e7e73f5cd389c1c4d6bb6d381c0696c4ee0aaef5dc"
   }
  }
 },
 "nbformat": 4,
 "nbformat_minor": 2,
 "cells": [
  {
   "cell_type": "code",
   "execution_count": 1,
   "metadata": {},
   "outputs": [
    {
     "output_type": "error",
     "ename": "ModuleNotFoundError",
     "evalue": "No module named 'matplotlib'",
     "traceback": [
      "\u001b[0;31m---------------------------------------------------------------------------\u001b[0m",
      "\u001b[0;31mModuleNotFoundError\u001b[0m                       Traceback (most recent call last)",
      "\u001b[0;32m<ipython-input-1-dc1b30e563f7>\u001b[0m in \u001b[0;36m<module>\u001b[0;34m\u001b[0m\n\u001b[1;32m      5\u001b[0m \u001b[0;32mimport\u001b[0m \u001b[0mjson\u001b[0m\u001b[0;34m\u001b[0m\u001b[0;34m\u001b[0m\u001b[0m\n\u001b[1;32m      6\u001b[0m \u001b[0;34m\u001b[0m\u001b[0m\n\u001b[0;32m----> 7\u001b[0;31m \u001b[0;32mimport\u001b[0m \u001b[0mmatplotlib\u001b[0m\u001b[0;34m\u001b[0m\u001b[0;34m\u001b[0m\u001b[0m\n\u001b[0m\u001b[1;32m      8\u001b[0m \u001b[0;32mimport\u001b[0m \u001b[0mmatplotlib\u001b[0m\u001b[0;34m.\u001b[0m\u001b[0mpyplot\u001b[0m \u001b[0;32mas\u001b[0m \u001b[0mplt\u001b[0m\u001b[0;34m\u001b[0m\u001b[0;34m\u001b[0m\u001b[0m\n\u001b[1;32m      9\u001b[0m \u001b[0;32mfrom\u001b[0m \u001b[0mIPython\u001b[0m \u001b[0;32mimport\u001b[0m \u001b[0mdisplay\u001b[0m\u001b[0;34m\u001b[0m\u001b[0;34m\u001b[0m\u001b[0m\n",
      "\u001b[0;31mModuleNotFoundError\u001b[0m: No module named 'matplotlib'"
     ]
    }
   ],
   "source": [
    "from physical_multiagent_env.scenarios.FollowTemplate.scenario import *\n",
    "from physical_multiagent_env.reinforcement_learning.utils.observation_functions import *\n",
    "\n",
    "import time\n",
    "import json \n",
    "\n",
    "import matplotlib\n",
    "import matplotlib.pyplot as plt \n",
    "from IPython import display\n",
    "\n",
    "transform = Observation_CNN.observation_fn_2\n",
    "\n",
    "fig, ax = plt.subplots()\n",
    "\n",
    "if __name__ == \"__main__\":\n",
    "    with open(\"../reinforcement_learning/FollowTemplate/version1.json\") as f :\n",
    "        config = json.load(f)\n",
    "\n",
    "    config = config['env_config']\n",
    "    config['connect'] = p.DIRECT\n",
    "\n",
    "    env = FollowTemplate(config)\n",
    "    \n",
    "    for i in range(10):\n",
    "        env.set_phase(phase=6)\n",
    "        state = env.reset()\n",
    "        \n",
    "        for j in range(2000):\n",
    "            alive_agents = []\n",
    "            for index, agent in enumerate(env.objects['agent']):\n",
    "                if agent.alive:\n",
    "                    alive_agents.append(index)\n",
    "            \n",
    "            agent_obs = transform(state, \n",
    "                                test_env=env, \n",
    "                                test_config={'size':80, \"observation_range\":20}\n",
    "                        )\n",
    "\n",
    "            display.clear_output(wait=True) \n",
    "            display.display(plt.gcf())\n",
    "            plt.imshow(agent_obs[0][:,:,0])\n",
    "            \n",
    "\n",
    "            action = 2\n",
    "\n",
    "            state, reward, done, info = env.step({i:action for i in alive_agents})\n",
    "            # time.sleep(0.0001)"
   ]
  },
  {
   "cell_type": "code",
   "execution_count": null,
   "metadata": {},
   "outputs": [],
   "source": []
  }
 ]
}